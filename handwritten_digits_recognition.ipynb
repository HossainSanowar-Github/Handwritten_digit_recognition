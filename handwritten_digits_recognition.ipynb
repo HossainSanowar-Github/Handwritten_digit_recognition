{
 "cells": [
  {
   "cell_type": "markdown",
   "id": "d0173dc7",
   "metadata": {},
   "source": [
    "Handwritten digits classification for extreme beginners\n",
    "1. Brainstorming, how to build your own deep learning model Role of each layer (CNN, Pooling, Dense)\n",
    "    * MNIST - dataset\n",
    "\n",
    "2. stepwise implementation for python code\n",
    "    * Single Image - digits recognition\n",
    "    * Video Demo"
   ]
  },
  {
   "cell_type": "code",
   "execution_count": 23,
   "id": "a8df7bf6",
   "metadata": {},
   "outputs": [],
   "source": [
    "import tensorflow as tf\n",
    "from tensorflow import keras\n",
    "from tensorflow.keras.datasets import mnist\n",
    "from tensorflow.keras.utils import normalize\n",
    "\n",
    "import matplotlib.pyplot as plt\n",
    "import numpy as np"
   ]
  },
  {
   "cell_type": "markdown",
   "id": "08f51279",
   "metadata": {},
   "source": [
    "# Loading \"MNIST\" Data Set\n",
    "* Containing Training samples=60,000 and Testing Samples=10,000\n",
    "* TensorFlow already contain MNIST dataset whcih can be loaded using keras "
   ]
  },
  {
   "cell_type": "markdown",
   "id": "7397cd43",
   "metadata": {},
   "source": [
    "# After loading the MNIST dataset, divide into train, test dataset"
   ]
  },
  {
   "cell_type": "code",
   "execution_count": 7,
   "id": "6ba6e8b6",
   "metadata": {},
   "outputs": [],
   "source": [
    "(x_train,y_train),(x_test,y_test)=mnist.load_data()"
   ]
  },
  {
   "cell_type": "code",
   "execution_count": 8,
   "id": "9b334bb4",
   "metadata": {},
   "outputs": [
    {
     "data": {
      "text/plain": [
       "(60000, 28, 28)"
      ]
     },
     "execution_count": 8,
     "metadata": {},
     "output_type": "execute_result"
    }
   ],
   "source": [
    "x_train.shape"
   ]
  },
  {
   "cell_type": "code",
   "execution_count": 14,
   "id": "f9eebb45",
   "metadata": {},
   "outputs": [
    {
     "data": {
      "image/png": "[encoded data removed]",
      "text/plain": [
       "<Figure size 432x288 with 1 Axes>"
      ]
     },
     "metadata": {
      "needs_background": "light"
     },
     "output_type": "display_data"
    },
    {
     "data": {
      "text/plain": [
       "<matplotlib.image.AxesImage at 0x165873190>"
      ]
     },
     "execution_count": 14,
     "metadata": {},
     "output_type": "execute_result"
    },
    {
     "data": {
      "image/png": "[encoded data removed]",
      "text/plain": [
       "<Figure size 432x288 with 1 Axes>"
      ]
     },
     "metadata": {
      "needs_background": "light"
     },
     "output_type": "display_data"
    }
   ],
   "source": [
    "plt.imshow(x_train[0])\n",
    "plt.show()\n",
    "\n",
    "## however we don't know wheter its color image or binary images\n",
    "## so inorder to plot it, change the configuration\n",
    "plt.title('Binary image')\n",
    "plt.imshow(x_train[0],cmap=plt.cm.binary)"
   ]
  },
  {
   "cell_type": "markdown",
   "id": "89dfd167",
   "metadata": {},
   "source": [
    "## Checking the values of each pixel\n",
    "## Before Normalization"
   ]
  },
  {
   "cell_type": "code",
   "execution_count": 15,
   "id": "db3103ba",
   "metadata": {},
   "outputs": [
    {
     "name": "stdout",
     "output_type": "stream",
     "text": [
      "[[  0   0   0   0   0   0   0   0   0   0   0   0   0   0   0   0   0   0\n",
      "    0   0   0   0   0   0   0   0   0   0]\n",
      " [  0   0   0   0   0   0   0   0   0   0   0   0   0   0   0   0   0   0\n",
      "    0   0   0   0   0   0   0   0   0   0]\n",
      " [  0   0   0   0   0   0   0   0   0   0   0   0   0   0   0   0   0   0\n",
      "    0   0   0   0   0   0   0   0   0   0]\n",
      " [  0   0   0   0   0   0   0   0   0   0   0   0   0   0   0   0   0   0\n",
      "    0   0   0   0   0   0   0   0   0   0]\n",
      " [  0   0   0   0   0   0   0   0   0   0   0   0   0   0   0   0   0   0\n",
      "    0   0   0   0   0   0   0   0   0   0]\n",
      " [  0   0   0   0   0   0   0   0   0   0   0   0   3  18  18  18 126 136\n",
      "  175  26 166 255 247 127   0   0   0   0]\n",
      " [  0   0   0   0   0   0   0   0  30  36  94 154 170 253 253 253 253 253\n",
      "  225 172 253 242 195  64   0   0   0   0]\n",
      " [  0   0   0   0   0   0   0  49 238 253 253 253 253 253 253 253 253 251\n",
      "   93  82  82  56  39   0   0   0   0   0]\n",
      " [  0   0   0   0   0   0   0  18 219 253 253 253 253 253 198 182 247 241\n",
      "    0   0   0   0   0   0   0   0   0   0]\n",
      " [  0   0   0   0   0   0   0   0  80 156 107 253 253 205  11   0  43 154\n",
      "    0   0   0   0   0   0   0   0   0   0]\n",
      " [  0   0   0   0   0   0   0   0   0  14   1 154 253  90   0   0   0   0\n",
      "    0   0   0   0   0   0   0   0   0   0]\n",
      " [  0   0   0   0   0   0   0   0   0   0   0 139 253 190   2   0   0   0\n",
      "    0   0   0   0   0   0   0   0   0   0]\n",
      " [  0   0   0   0   0   0   0   0   0   0   0  11 190 253  70   0   0   0\n",
      "    0   0   0   0   0   0   0   0   0   0]\n",
      " [  0   0   0   0   0   0   0   0   0   0   0   0  35 241 225 160 108   1\n",
      "    0   0   0   0   0   0   0   0   0   0]\n",
      " [  0   0   0   0   0   0   0   0   0   0   0   0   0  81 240 253 253 119\n",
      "   25   0   0   0   0   0   0   0   0   0]\n",
      " [  0   0   0   0   0   0   0   0   0   0   0   0   0   0  45 186 253 253\n",
      "  150  27   0   0   0   0   0   0   0   0]\n",
      " [  0   0   0   0   0   0   0   0   0   0   0   0   0   0   0  16  93 252\n",
      "  253 187   0   0   0   0   0   0   0   0]\n",
      " [  0   0   0   0   0   0   0   0   0   0   0   0   0   0   0   0   0 249\n",
      "  253 249  64   0   0   0   0   0   0   0]\n",
      " [  0   0   0   0   0   0   0   0   0   0   0   0   0   0  46 130 183 253\n",
      "  253 207   2   0   0   0   0   0   0   0]\n",
      " [  0   0   0   0   0   0   0   0   0   0   0   0  39 148 229 253 253 253\n",
      "  250 182   0   0   0   0   0   0   0   0]\n",
      " [  0   0   0   0   0   0   0   0   0   0  24 114 221 253 253 253 253 201\n",
      "   78   0   0   0   0   0   0   0   0   0]\n",
      " [  0   0   0   0   0   0   0   0  23  66 213 253 253 253 253 198  81   2\n",
      "    0   0   0   0   0   0   0   0   0   0]\n",
      " [  0   0   0   0   0   0  18 171 219 253 253 253 253 195  80   9   0   0\n",
      "    0   0   0   0   0   0   0   0   0   0]\n",
      " [  0   0   0   0  55 172 226 253 253 253 253 244 133  11   0   0   0   0\n",
      "    0   0   0   0   0   0   0   0   0   0]\n",
      " [  0   0   0   0 136 253 253 253 212 135 132  16   0   0   0   0   0   0\n",
      "    0   0   0   0   0   0   0   0   0   0]\n",
      " [  0   0   0   0   0   0   0   0   0   0   0   0   0   0   0   0   0   0\n",
      "    0   0   0   0   0   0   0   0   0   0]\n",
      " [  0   0   0   0   0   0   0   0   0   0   0   0   0   0   0   0   0   0\n",
      "    0   0   0   0   0   0   0   0   0   0]\n",
      " [  0   0   0   0   0   0   0   0   0   0   0   0   0   0   0   0   0   0\n",
      "    0   0   0   0   0   0   0   0   0   0]]\n"
     ]
    }
   ],
   "source": [
    "print(x_train[0])#before normalization"
   ]
  },
  {
   "cell_type": "markdown",
   "id": "e81e17d7",
   "metadata": {},
   "source": [
    "## As images are in Gray level(1 channel==>0 to 255), not colored(RGB)\n",
    "## Normalizing the data | Pre-process step"
   ]
  },
  {
   "cell_type": "code",
   "execution_count": 20,
   "id": "f141f1c2",
   "metadata": {},
   "outputs": [
    {
     "data": {
      "text/plain": [
       "<matplotlib.image.AxesImage at 0x165797b50>"
      ]
     },
     "execution_count": 20,
     "metadata": {},
     "output_type": "execute_result"
    },
    {
     "data": {
      "image/png": "[encoded data removed]",
      "text/plain": [
       "<Figure size 432x288 with 1 Axes>"
      ]
     },
     "metadata": {
      "needs_background": "light"
     },
     "output_type": "display_data"
    }
   ],
   "source": [
    "### its gray image and all values varies from 0 to 255\n",
    "### in order to normalize it\n",
    "### normalize can be x_train/255, but we apply as below format\n",
    "\n",
    "x_train=normalize(x_train,axis=1)\n",
    "x_test=normalize(x_test,axis=1)\n",
    "plt.imshow(x_train[0],cmap=plt.cm.binary)"
   ]
  },
  {
   "cell_type": "markdown",
   "id": "e5eed959",
   "metadata": {},
   "source": [
    "## After Normalize"
   ]
  },
  {
   "cell_type": "code",
   "execution_count": 21,
   "id": "ad6113b2",
   "metadata": {},
   "outputs": [
    {
     "name": "stdout",
     "output_type": "stream",
     "text": [
      "[[0.         0.         0.         0.         0.         0.\n",
      "  0.         0.         0.         0.         0.         0.\n",
      "  0.         0.         0.         0.         0.         0.\n",
      "  0.         0.         0.         0.         0.         0.\n",
      "  0.         0.         0.         0.        ]\n",
      " [0.         0.         0.         0.         0.         0.\n",
      "  0.         0.         0.         0.         0.         0.\n",
      "  0.         0.         0.         0.         0.         0.\n",
      "  0.         0.         0.         0.         0.         0.\n",
      "  0.         0.         0.         0.        ]\n",
      " [0.         0.         0.         0.         0.         0.\n",
      "  0.         0.         0.         0.         0.         0.\n",
      "  0.         0.         0.         0.         0.         0.\n",
      "  0.         0.         0.         0.         0.         0.\n",
      "  0.         0.         0.         0.        ]\n",
      " [0.         0.         0.         0.         0.         0.\n",
      "  0.         0.         0.         0.         0.         0.\n",
      "  0.         0.         0.         0.         0.         0.\n",
      "  0.         0.         0.         0.         0.         0.\n",
      "  0.         0.         0.         0.        ]\n",
      " [0.         0.         0.         0.         0.         0.\n",
      "  0.         0.         0.         0.         0.         0.\n",
      "  0.         0.         0.         0.         0.         0.\n",
      "  0.         0.         0.         0.         0.         0.\n",
      "  0.         0.         0.         0.        ]\n",
      " [0.         0.         0.         0.         0.         0.\n",
      "  0.         0.         0.         0.         0.         0.\n",
      "  0.00520385 0.02787452 0.03176183 0.0312157  0.20103509 0.19649443\n",
      "  0.31371597 0.06464179 0.60399581 0.78946957 0.83830205 0.92810028\n",
      "  0.         0.         0.         0.        ]\n",
      " [0.         0.         0.         0.         0.         0.\n",
      "  0.         0.         0.07338257 0.08724419 0.20554124 0.27746569\n",
      "  0.23842665 0.32049008 0.37289844 0.37174778 0.34371283 0.30731992\n",
      "  0.33248861 0.34844895 0.74182436 0.6012357  0.53671469 0.37233033\n",
      "  0.         0.         0.         0.        ]\n",
      " [0.         0.         0.         0.         0.         0.\n",
      "  0.         0.10869133 0.47348052 0.50477485 0.46334002 0.3884677\n",
      "  0.31041333 0.29053112 0.35033172 0.35660703 0.33127313 0.29060315\n",
      "  0.12748638 0.14905591 0.21256367 0.12350476 0.09584887 0.\n",
      "  0.         0.         0.         0.        ]\n",
      " [0.         0.         0.         0.         0.         0.\n",
      "  0.         0.03495985 0.37849921 0.43783142 0.40536901 0.349671\n",
      "  0.29320703 0.28862175 0.28454451 0.27044307 0.33829826 0.28629312\n",
      "  0.         0.         0.         0.         0.         0.\n",
      "  0.         0.         0.         0.        ]\n",
      " [0.         0.         0.         0.         0.         0.\n",
      "  0.         0.         0.13030446 0.25402319 0.16376516 0.34791942\n",
      "  0.30704061 0.25743819 0.01797372 0.         0.06441357 0.19503681\n",
      "  0.         0.         0.         0.         0.         0.\n",
      "  0.         0.         0.         0.        ]\n",
      " [0.         0.         0.         0.         0.         0.\n",
      "  0.         0.         0.         0.02275    0.00157065 0.2277963\n",
      "  0.34741357 0.13240188 0.         0.         0.         0.\n",
      "  0.         0.         0.         0.         0.         0.\n",
      "  0.         0.         0.         0.        ]\n",
      " [0.         0.         0.         0.         0.         0.\n",
      "  0.         0.         0.         0.         0.         0.22390219\n",
      "  0.38929613 0.30916534 0.00393134 0.         0.         0.\n",
      "  0.         0.         0.         0.         0.         0.\n",
      "  0.         0.         0.         0.        ]\n",
      " [0.         0.         0.         0.         0.         0.\n",
      "  0.         0.         0.         0.         0.         0.01835665\n",
      "  0.29929743 0.39598634 0.12308753 0.         0.         0.\n",
      "  0.         0.         0.         0.         0.         0.\n",
      "  0.         0.         0.         0.        ]\n",
      " [0.         0.         0.         0.         0.         0.\n",
      "  0.         0.         0.         0.         0.         0.\n",
      "  0.05160299 0.32801441 0.34077745 0.23481378 0.1451077  0.00119529\n",
      "  0.         0.         0.         0.         0.         0.\n",
      "  0.         0.         0.         0.        ]\n",
      " [0.         0.         0.         0.         0.         0.\n",
      "  0.         0.         0.         0.         0.         0.\n",
      "  0.         0.09593992 0.32490064 0.34299385 0.32626221 0.14150569\n",
      "  0.03802639 0.         0.         0.         0.         0.\n",
      "  0.         0.         0.         0.        ]\n",
      " [0.         0.         0.         0.         0.         0.\n",
      "  0.         0.         0.         0.         0.         0.\n",
      "  0.         0.         0.05843965 0.24978877 0.33150253 0.31292184\n",
      "  0.23833217 0.0597867  0.         0.         0.         0.\n",
      "  0.         0.         0.         0.        ]\n",
      " [0.         0.         0.         0.         0.         0.\n",
      "  0.         0.         0.         0.         0.         0.\n",
      "  0.         0.         0.         0.02245253 0.12830079 0.33398269\n",
      "  0.41800225 0.41444424 0.         0.         0.         0.\n",
      "  0.         0.         0.         0.        ]\n",
      " [0.         0.         0.         0.         0.         0.\n",
      "  0.         0.         0.         0.         0.         0.\n",
      "  0.         0.         0.         0.         0.         0.34672111\n",
      "  0.42391019 0.54664674 0.19915275 0.         0.         0.\n",
      "  0.         0.         0.         0.        ]\n",
      " [0.         0.         0.         0.         0.         0.\n",
      "  0.         0.         0.         0.         0.         0.\n",
      "  0.         0.         0.07249111 0.20416148 0.27532478 0.3505131\n",
      "  0.41722685 0.45479805 0.00636775 0.         0.         0.\n",
      "  0.         0.         0.         0.        ]\n",
      " [0.         0.         0.         0.         0.         0.\n",
      "  0.         0.         0.         0.         0.         0.\n",
      "  0.05473352 0.19564493 0.35624843 0.3918068  0.37138144 0.34053954\n",
      "  0.41234561 0.41374472 0.         0.         0.         0.\n",
      "  0.         0.         0.         0.        ]\n",
      " [0.         0.         0.         0.         0.         0.\n",
      "  0.         0.         0.         0.         0.03991218 0.17438509\n",
      "  0.28583747 0.31115139 0.372457   0.37728765 0.3623134  0.27193889\n",
      "  0.13416307 0.         0.         0.         0.         0.\n",
      "  0.         0.         0.         0.        ]\n",
      " [0.         0.         0.         0.         0.         0.\n",
      "  0.         0.         0.03220349 0.09998984 0.32638771 0.35740891\n",
      "  0.3058506  0.29574487 0.36153957 0.29511104 0.11938371 0.00289931\n",
      "  0.         0.         0.         0.         0.         0.\n",
      "  0.         0.         0.         0.        ]\n",
      " [0.         0.         0.         0.         0.         0.\n",
      "  0.03036689 0.28130028 0.31642515 0.38152226 0.37897524 0.34947813\n",
      "  0.30314347 0.23029395 0.11850372 0.01446832 0.         0.\n",
      "  0.         0.         0.         0.         0.         0.\n",
      "  0.         0.         0.         0.        ]\n",
      " [0.         0.         0.         0.         0.24274265 0.4011997\n",
      "  0.5060173  0.52723893 0.44108466 0.44518844 0.43281206 0.38055062\n",
      "  0.17859472 0.01465683 0.         0.         0.         0.\n",
      "  0.         0.         0.         0.         0.         0.\n",
      "  0.         0.         0.         0.        ]\n",
      " [0.         0.         0.         0.         0.97009072 0.91599061\n",
      "  0.8619886  0.79363295 0.56077863 0.35650968 0.3359358  0.03636709\n",
      "  0.         0.         0.         0.         0.         0.\n",
      "  0.         0.         0.         0.         0.         0.\n",
      "  0.         0.         0.         0.        ]\n",
      " [0.         0.         0.         0.         0.         0.\n",
      "  0.         0.         0.         0.         0.         0.\n",
      "  0.         0.         0.         0.         0.         0.\n",
      "  0.         0.         0.         0.         0.         0.\n",
      "  0.         0.         0.         0.        ]\n",
      " [0.         0.         0.         0.         0.         0.\n",
      "  0.         0.         0.         0.         0.         0.\n",
      "  0.         0.         0.         0.         0.         0.\n",
      "  0.         0.         0.         0.         0.         0.\n",
      "  0.         0.         0.         0.        ]\n",
      " [0.         0.         0.         0.         0.         0.\n",
      "  0.         0.         0.         0.         0.         0.\n",
      "  0.         0.         0.         0.         0.         0.\n",
      "  0.         0.         0.         0.         0.         0.\n",
      "  0.         0.         0.         0.        ]]\n"
     ]
    }
   ],
   "source": [
    "print(x_train[0])"
   ]
  },
  {
   "cell_type": "code",
   "execution_count": 22,
   "id": "3f3ceb30",
   "metadata": {},
   "outputs": [
    {
     "name": "stdout",
     "output_type": "stream",
     "text": [
      "5\n"
     ]
    }
   ],
   "source": [
    "print(y_train[0])"
   ]
  },
  {
   "cell_type": "markdown",
   "id": "0cedbb4c",
   "metadata": {},
   "source": [
    "## Resizing image to make it suitable for apply Convolution operation"
   ]
  },
  {
   "cell_type": "code",
   "execution_count": 26,
   "id": "b677341b",
   "metadata": {},
   "outputs": [
    {
     "name": "stdout",
     "output_type": "stream",
     "text": [
      "Training Samples dimension (60000, 28, 28, 1)\n",
      "Testing Samples dimension (10000, 28, 28, 1)\n"
     ]
    }
   ],
   "source": [
    "#here, -1 means total number of sample\n",
    "IMG_SIZE=28\n",
    "x_train=np.array(x_train).reshape(-1,IMG_SIZE,IMG_SIZE,1) ### increasing one dimention for kernel=filter operation\n",
    "x_test=np.array(x_test).reshape(-1,IMG_SIZE,IMG_SIZE,1) ### increasing one dimention for kernel operation\n",
    "print(\"Training Samples dimension\",x_train.shape)\n",
    "print(\"Testing Samples dimension\",x_test.shape)"
   ]
  },
  {
   "cell_type": "markdown",
   "id": "acb1a7c6",
   "metadata": {},
   "source": [
    "## Crating a Deep Neural Network\n",
    "### Training on 60,000 samples of MNIST handwritten dataset"
   ]
  },
  {
   "cell_type": "code",
   "execution_count": 27,
   "id": "6d38946a",
   "metadata": {},
   "outputs": [],
   "source": [
    "from tensorflow.keras.models import Sequential\n",
    "from tensorflow.keras.layers import Conv2D, MaxPooling2D, Flatten,Dense,Activation,Dropout,ReLU"
   ]
  },
  {
   "cell_type": "code",
   "execution_count": 30,
   "id": "c1002687",
   "metadata": {},
   "outputs": [],
   "source": [
    "#### Creating a neural network now\n",
    "model=Sequential()\n",
    "\n",
    "#### First Convolution Layer 0 1 2 3 (60000,28,28,1) skip 0 means 60000 images\n",
    "#### 28-3+1=26x26\n",
    "model.add(Conv2D(64,(3,3),input_shape=x_train.shape[1:])) ##only for first convolution layer to mention input layer size\n",
    "model.add(Activation('relu'))##activation function to make it non-linear, \"all values\"<0 will remove to process next step\n",
    "model.add(MaxPooling2D(pool_size=(2,2))) ##Maxpooling: single maximum value of 2x2 will get, and rest will remove\n",
    "\n",
    "#### Second Convolution layer; 13-3+1=11\n",
    "model.add(Conv2D(64,(3,3))) ## 2nd convolution layer\n",
    "model.add(Activation('relu')) ## activation function\n",
    "model.add(MaxPooling2D(pool_size=(2,2))) ## Maxpooling\n",
    "\n",
    "#### 3rd Convolution layer; 5-3+1=3\n",
    "model.add(Conv2D(64,(3,3))) ## 3rd convolution layer\n",
    "model.add(Activation('relu')) ## activation function\n",
    "model.add(MaxPooling2D(pool_size=(2,2))) ## Maxpooling\n",
    "\n",
    "#### Fully Connected layer# 1 3/2=1.5=1; supose total neuron 20x20=400\n",
    "model.add(Flatten()) ### before using fully connected layer, we need to be a flatten so that 20 to 20\n",
    "model.add(Dense(64))\n",
    "model.add(Activation('relu'))\n",
    "\n",
    "#### Fully Connected layer# 2 \n",
    "model.add(Dense(32))\n",
    "model.add(Activation('relu'))\n",
    "\n",
    "#### Last Fully Connected layer, output must be equal to number of classes, 10(0-9)\n",
    "model.add(Dense(10)) ##this last dense layer must be equal to 10\n",
    "model.add(Activation('softmax')) ##activation function is changed to softmax(class probabilities)\n",
    "\n",
    "## binary classification, one neuron in Dense layer, activation function is \"sigmoid\"\n"
   ]
  },
  {
   "cell_type": "code",
   "execution_count": 31,
   "id": "72dc4c36",
   "metadata": {},
   "outputs": [
    {
     "name": "stdout",
     "output_type": "stream",
     "text": [
      "Model: \"sequential_2\"\n",
      "_________________________________________________________________\n",
      "Layer (type)                 Output Shape              Param #   \n",
      "=================================================================\n",
      "conv2d_4 (Conv2D)            (None, 26, 26, 64)        640       \n",
      "_________________________________________________________________\n",
      "activation_2 (Activation)    (None, 26, 26, 64)        0         \n",
      "_________________________________________________________________\n",
      "max_pooling2d_2 (MaxPooling2 (None, 13, 13, 64)        0         \n",
      "_________________________________________________________________\n",
      "conv2d_5 (Conv2D)            (None, 11, 11, 64)        36928     \n",
      "_________________________________________________________________\n",
      "activation_3 (Activation)    (None, 11, 11, 64)        0         \n",
      "_________________________________________________________________\n",
      "max_pooling2d_3 (MaxPooling2 (None, 5, 5, 64)          0         \n",
      "_________________________________________________________________\n",
      "conv2d_6 (Conv2D)            (None, 3, 3, 64)          36928     \n",
      "_________________________________________________________________\n",
      "activation_4 (Activation)    (None, 3, 3, 64)          0         \n",
      "_________________________________________________________________\n",
      "max_pooling2d_4 (MaxPooling2 (None, 1, 1, 64)          0         \n",
      "_________________________________________________________________\n",
      "flatten (Flatten)            (None, 64)                0         \n",
      "_________________________________________________________________\n",
      "dense (Dense)                (None, 64)                4160      \n",
      "_________________________________________________________________\n",
      "activation_5 (Activation)    (None, 64)                0         \n",
      "_________________________________________________________________\n",
      "dense_1 (Dense)              (None, 32)                2080      \n",
      "_________________________________________________________________\n",
      "activation_6 (Activation)    (None, 32)                0         \n",
      "_________________________________________________________________\n",
      "dense_2 (Dense)              (None, 10)                330       \n",
      "_________________________________________________________________\n",
      "activation_7 (Activation)    (None, 10)                0         \n",
      "=================================================================\n",
      "Total params: 81,066\n",
      "Trainable params: 81,066\n",
      "Non-trainable params: 0\n",
      "_________________________________________________________________\n"
     ]
    }
   ],
   "source": [
    "model.summary()"
   ]
  },
  {
   "cell_type": "code",
   "execution_count": 32,
   "id": "ed8d91c3",
   "metadata": {},
   "outputs": [
    {
     "name": "stdout",
     "output_type": "stream",
     "text": [
      "Total Training Samples=  60000\n"
     ]
    }
   ],
   "source": [
    "print('Total Training Samples= ',len(x_train))"
   ]
  },
  {
   "cell_type": "markdown",
   "id": "d3184d70",
   "metadata": {},
   "source": [
    "# Model Compile"
   ]
  },
  {
   "cell_type": "code",
   "execution_count": 34,
   "id": "a96bc480",
   "metadata": {},
   "outputs": [],
   "source": [
    "model.compile(loss='sparse_categorical_crossentropy',optimizer='adam',metrics=['accuracy'])"
   ]
  },
  {
   "cell_type": "code",
   "execution_count": 36,
   "id": "7da10336",
   "metadata": {},
   "outputs": [
    {
     "name": "stderr",
     "output_type": "stream",
     "text": [
      "2022-03-17 21:06:49.352172: I tensorflow/compiler/mlir/mlir_graph_optimization_pass.cc:176] None of the MLIR Optimization Passes are enabled (registered 2)\n",
      "2022-03-17 21:06:49.352910: W tensorflow/core/platform/profile_utils/cpu_utils.cc:128] Failed to get CPU frequency: 0 Hz\n"
     ]
    },
    {
     "name": "stdout",
     "output_type": "stream",
     "text": [
      "Epoch 1/5\n"
     ]
    },
    {
     "name": "stderr",
     "output_type": "stream",
     "text": [
      "2022-03-17 21:06:49.598469: I tensorflow/core/grappler/optimizers/custom_graph_optimizer_registry.cc:112] Plugin optimizer for device_type GPU is enabled.\n"
     ]
    },
    {
     "name": "stdout",
     "output_type": "stream",
     "text": [
      "1313/1313 [==============================] - ETA: 0s - loss: 0.3380 - accuracy: 0.8917"
     ]
    },
    {
     "name": "stderr",
     "output_type": "stream",
     "text": [
      "2022-03-17 21:07:06.190234: I tensorflow/core/grappler/optimizers/custom_graph_optimizer_registry.cc:112] Plugin optimizer for device_type GPU is enabled.\n"
     ]
    },
    {
     "name": "stdout",
     "output_type": "stream",
     "text": [
      "1313/1313 [==============================] - 19s 12ms/step - loss: 0.3380 - accuracy: 0.8917 - val_loss: 0.1827 - val_accuracy: 0.9417\n",
      "Epoch 2/5\n",
      "1313/1313 [==============================] - 15s 11ms/step - loss: 0.1127 - accuracy: 0.9657 - val_loss: 0.1303 - val_accuracy: 0.9579\n",
      "Epoch 3/5\n",
      "1313/1313 [==============================] - 15s 11ms/step - loss: 0.0795 - accuracy: 0.9761 - val_loss: 0.0992 - val_accuracy: 0.9711\n",
      "Epoch 4/5\n",
      "1313/1313 [==============================] - 15s 11ms/step - loss: 0.0611 - accuracy: 0.9808 - val_loss: 0.0718 - val_accuracy: 0.9778\n",
      "Epoch 5/5\n",
      "1313/1313 [==============================] - 14s 11ms/step - loss: 0.0499 - accuracy: 0.9845 - val_loss: 0.0694 - val_accuracy: 0.9798\n"
     ]
    },
    {
     "data": {
      "text/plain": [
       "<tensorflow.python.keras.callbacks.History at 0x167dec730>"
      ]
     },
     "execution_count": 36,
     "metadata": {},
     "output_type": "execute_result"
    }
   ],
   "source": [
    "model.fit(x_train,y_train,epochs=5,validation_split=0.3)##training the model"
   ]
  },
  {
   "cell_type": "markdown",
   "id": "5c7ff690",
   "metadata": {},
   "source": [
    "1. Validation accuracy ~= accuracy; this model is ok\n",
    "2. validation accuracy < accuracy; for example validation accuracy is 30% and accuracy is 98%, so this is overfitting. Solution for overfitting is dropout,\n"
   ]
  },
  {
   "cell_type": "markdown",
   "id": "76514d8f",
   "metadata": {},
   "source": [
    "# Evaluation"
   ]
  },
  {
   "cell_type": "code",
   "execution_count": 39,
   "id": "8c361361",
   "metadata": {},
   "outputs": [
    {
     "name": "stdout",
     "output_type": "stream",
     "text": [
      "313/313 [==============================] - 1s 5ms/step - loss: 0.0682 - accuracy: 0.9794\n",
      "\n",
      "Test loss on 10,000 test samples:  0.06818100810050964\n",
      "Validation accuracy on 10,000 test samples:  0.9794000387191772\n"
     ]
    }
   ],
   "source": [
    "### Evaluating on testing dataset of MNIST of 10,000 dataset\n",
    "\n",
    "test_loss,test_accuracy=model.evaluate(x_test,y_test)\n",
    "print()\n",
    "print(\"Test loss on 10,000 test samples: \",test_loss)\n",
    "print(\"Validation accuracy on 10,000 test samples: \",test_accuracy)"
   ]
  },
  {
   "cell_type": "code",
   "execution_count": 40,
   "id": "1f7e5f9d",
   "metadata": {},
   "outputs": [
    {
     "name": "stderr",
     "output_type": "stream",
     "text": [
      "2022-03-17 21:09:46.643689: I tensorflow/core/grappler/optimizers/custom_graph_optimizer_registry.cc:112] Plugin optimizer for device_type GPU is enabled.\n"
     ]
    },
    {
     "name": "stdout",
     "output_type": "stream",
     "text": [
      "[[1.16661461e-07 1.47736091e-05 1.67310238e-04 ... 9.99722064e-01\n",
      "  5.79191465e-07 8.74371290e-06]\n",
      " [4.21786490e-06 2.59423746e-06 9.99950647e-01 ... 2.91277884e-05\n",
      "  9.10362530e-07 8.71641745e-08]\n",
      " [6.98787562e-06 9.99850750e-01 2.16500557e-05 ... 1.52501786e-06\n",
      "  2.88101182e-06 4.08056025e-07]\n",
      " ...\n",
      " [1.15508286e-07 7.35348112e-06 2.31354008e-07 ... 1.22153742e-05\n",
      "  9.21618812e-06 4.04009370e-05]\n",
      " [6.99378916e-06 1.38216038e-07 1.04534020e-05 ... 6.46441762e-08\n",
      "  2.57311840e-05 1.14762747e-06]\n",
      " [2.46030031e-05 2.21222919e-07 1.69908702e-07 ... 9.11016897e-08\n",
      "  2.39430028e-06 1.55861144e-07]]\n"
     ]
    }
   ],
   "source": [
    "# Prediction the model\n",
    "## predictions=new_model.predict([x_test])\n",
    "predictions=model.predict([x_test])\n",
    "print(predictions)# actually this predictions are based on one hot encoding, so these are only arrays"
   ]
  },
  {
   "cell_type": "code",
   "execution_count": 41,
   "id": "45a70941",
   "metadata": {},
   "outputs": [
    {
     "name": "stdout",
     "output_type": "stream",
     "text": [
      "7\n"
     ]
    }
   ],
   "source": [
    "## in order to understand, convert the predictions from one hot encoding; so we need to use numpy for that\n",
    "print(np.argmax(predictions[0]))##argmax will return the maximum value index and find the value of it"
   ]
  },
  {
   "cell_type": "code",
   "execution_count": 45,
   "id": "131ad928",
   "metadata": {},
   "outputs": [
    {
     "data": {
      "text/plain": [
       "<matplotlib.image.AxesImage at 0x1745c1520>"
      ]
     },
     "execution_count": 45,
     "metadata": {},
     "output_type": "execute_result"
    },
    {
     "data": {
      "image/png": "[encoded data removed]",
      "text/plain": [
       "<Figure size 432x288 with 1 Axes>"
      ]
     },
     "metadata": {
      "needs_background": "light"
     },
     "output_type": "display_data"
    }
   ],
   "source": [
    "#now to check that is our answer is true or not\n",
    "plt.imshow(x_test[0])"
   ]
  },
  {
   "cell_type": "code",
   "execution_count": 46,
   "id": "66269eff",
   "metadata": {},
   "outputs": [
    {
     "name": "stdout",
     "output_type": "stream",
     "text": [
      "8\n"
     ]
    }
   ],
   "source": [
    "## in order to understand, convert the predictions from one hot encoding; so we need to use numpy for that\n",
    "print(np.argmax(predictions[128]))##argmax will return the maximum value index and find the value of it"
   ]
  },
  {
   "cell_type": "code",
   "execution_count": 47,
   "id": "e62e1519",
   "metadata": {},
   "outputs": [
    {
     "data": {
      "text/plain": [
       "<matplotlib.image.AxesImage at 0x174d56970>"
      ]
     },
     "execution_count": 47,
     "metadata": {},
     "output_type": "execute_result"
    },
    {
     "data": {
      "image/png": "[encoded data removed]",
      "text/plain": [
       "<Figure size 432x288 with 1 Axes>"
      ]
     },
     "metadata": {
      "needs_background": "light"
     },
     "output_type": "display_data"
    }
   ],
   "source": [
    "#now to check that is our answer is true or not\n",
    "plt.imshow(x_test[128])"
   ]
  },
  {
   "cell_type": "markdown",
   "id": "c91a4e95",
   "metadata": {},
   "source": [
    "# Cross check image with written by hand digit or download from internet"
   ]
  },
  {
   "cell_type": "code",
   "execution_count": 48,
   "id": "fb17e0cc",
   "metadata": {},
   "outputs": [],
   "source": [
    "import cv2"
   ]
  },
  {
   "cell_type": "code",
   "execution_count": 49,
   "id": "655ec1bd",
   "metadata": {},
   "outputs": [],
   "source": [
    "img=cv2.imread(\"digit_3.png\")"
   ]
  },
  {
   "cell_type": "code",
   "execution_count": 51,
   "id": "746951ab",
   "metadata": {},
   "outputs": [
    {
     "data": {
      "text/plain": [
       "(452, 451, 3)"
      ]
     },
     "execution_count": 51,
     "metadata": {},
     "output_type": "execute_result"
    }
   ],
   "source": [
    "img.shape"
   ]
  },
  {
   "cell_type": "code",
   "execution_count": 50,
   "id": "6ecfa927",
   "metadata": {},
   "outputs": [
    {
     "data": {
      "text/plain": [
       "<matplotlib.image.AxesImage at 0x2c9ced250>"
      ]
     },
     "execution_count": 50,
     "metadata": {},
     "output_type": "execute_result"
    },
    {
     "data": {
      "image/png": "[encoded data removed]",
      "text/plain": [
       "<Figure size 432x288 with 1 Axes>"
      ]
     },
     "metadata": {
      "needs_background": "light"
     },
     "output_type": "display_data"
    }
   ],
   "source": [
    "plt.imshow(img)"
   ]
  },
  {
   "cell_type": "code",
   "execution_count": 54,
   "id": "a347ea7d",
   "metadata": {},
   "outputs": [
    {
     "data": {
      "text/plain": [
       "(452, 451)"
      ]
     },
     "execution_count": 54,
     "metadata": {},
     "output_type": "execute_result"
    }
   ],
   "source": [
    "# first convert color image to gray image, then resize the image\n",
    "gray=cv2.cvtColor(img,cv2.COLOR_BGR2GRAY)\n",
    "gray.shape##color channel has gone"
   ]
  },
  {
   "cell_type": "code",
   "execution_count": 55,
   "id": "e6f61ea2",
   "metadata": {},
   "outputs": [],
   "source": [
    "resized=cv2.resize(gray,(28,28),interpolation=cv2.INTER_AREA)"
   ]
  },
  {
   "cell_type": "code",
   "execution_count": 56,
   "id": "4a4b3b2a",
   "metadata": {},
   "outputs": [],
   "source": [
    "# normalize the image \n",
    "newimg=normalize(resized,axis=1)##0 to 1 scaling"
   ]
  },
  {
   "cell_type": "code",
   "execution_count": 58,
   "id": "7c259fd5",
   "metadata": {},
   "outputs": [
    {
     "data": {
      "text/plain": [
       "(1, 28, 28, 1)"
      ]
     },
     "execution_count": 58,
     "metadata": {},
     "output_type": "execute_result"
    }
   ],
   "source": [
    "newimg=np.array(newimg).reshape(-1,IMG_SIZE,IMG_SIZE,1)#kernel operation of convolution layer\n",
    "newimg.shape"
   ]
  },
  {
   "cell_type": "code",
   "execution_count": 59,
   "id": "49075463",
   "metadata": {},
   "outputs": [
    {
     "name": "stderr",
     "output_type": "stream",
     "text": [
      "2022-03-17 22:12:03.901855: I tensorflow/core/grappler/optimizers/custom_graph_optimizer_registry.cc:112] Plugin optimizer for device_type GPU is enabled.\n"
     ]
    }
   ],
   "source": [
    "predictions=model.predict(newimg)"
   ]
  },
  {
   "cell_type": "code",
   "execution_count": 60,
   "id": "654fde72",
   "metadata": {},
   "outputs": [
    {
     "name": "stdout",
     "output_type": "stream",
     "text": [
      "3\n"
     ]
    }
   ],
   "source": [
    "print(np.argmax(predictions))"
   ]
  },
  {
   "cell_type": "markdown",
   "id": "553c8a4a",
   "metadata": {},
   "source": [
    "# Video demo"
   ]
  },
  {
   "cell_type": "code",
   "execution_count": 62,
   "id": "272ad964",
   "metadata": {},
   "outputs": [
    {
     "name": "stderr",
     "output_type": "stream",
     "text": [
      "OpenCV: Couldn't read video stream from file \"video.mp4.html\"\n"
     ]
    },
    {
     "ename": "OSError",
     "evalue": "Cannot open video",
     "output_type": "error",
     "traceback": [
      "\u001b[0;31m---------------------------------------------------------------------------\u001b[0m",
      "\u001b[0;31mOSError\u001b[0m                                   Traceback (most recent call last)",
      "\u001b[0;32m/var/folders/70/xyz7khq54gx8qklx52wtt6tw0000gn/T/ipykernel_77430/4209405405.py\u001b[0m in \u001b[0;36m<module>\u001b[0;34m\u001b[0m\n\u001b[1;32m      8\u001b[0m \u001b[0;34m\u001b[0m\u001b[0m\n\u001b[1;32m      9\u001b[0m \u001b[0;32mif\u001b[0m \u001b[0;32mnot\u001b[0m \u001b[0mcap\u001b[0m\u001b[0;34m.\u001b[0m\u001b[0misOpened\u001b[0m\u001b[0;34m(\u001b[0m\u001b[0;34m)\u001b[0m\u001b[0;34m:\u001b[0m\u001b[0;34m\u001b[0m\u001b[0;34m\u001b[0m\u001b[0m\n\u001b[0;32m---> 10\u001b[0;31m     \u001b[0;32mraise\u001b[0m \u001b[0mIOError\u001b[0m\u001b[0;34m(\u001b[0m\u001b[0;34m'Cannot open video'\u001b[0m\u001b[0;34m)\u001b[0m\u001b[0;34m\u001b[0m\u001b[0;34m\u001b[0m\u001b[0m\n\u001b[0m\u001b[1;32m     11\u001b[0m \u001b[0;34m\u001b[0m\u001b[0m\n\u001b[1;32m     12\u001b[0m \u001b[0mtext\u001b[0m\u001b[0;34m=\u001b[0m\u001b[0;34m\"some text in a box\"\u001b[0m\u001b[0;34m\u001b[0m\u001b[0;34m\u001b[0m\u001b[0m\n",
      "\u001b[0;31mOSError\u001b[0m: Cannot open video"
     ]
    }
   ],
   "source": [
    "import numpy as np\n",
    "font_scale=1.5\n",
    "font=cv2.FONT_HERSHEY_PLAIN\n",
    "\n",
    "cap=cv2.VideoCapture(\"video.mp4.html\")\n",
    "#cap.set(cv2.CAP_PROP_FPS,170)\n",
    "# check if the webcam is opened correctly\n",
    "\n",
    "if not cap.isOpened():\n",
    "    raise IOError('Cannot open video')\n",
    "    \n",
    "text=\"some text in a box\"\n",
    "# get the width and height of the text box\n",
    "(text_width,text_height)=cv2.getTextSize(text,font,fontScale=font_scale,thickness=1)[0]\n",
    "#set the text start position\n",
    "text_offset_x=10\n",
    "text_offset_y=img.shape[0]-25\n",
    "\n",
    "#make the coords of the box with a small padding of two pixels\n",
    "box_coords=((text_offset_x,text_offset_y),(text_offset_x+text_width+2,text_offset_y-text_height-2))\n",
    "\n",
    "cntr=0;\n",
    "while True:\n",
    "    ret,frame=cap.read()\n",
    "    cntr=cntr+1;\n",
    "    \n",
    "    if((cntr%2)==0):\n",
    "        gray=cv2.cvtColor(frame,cv2.COLOR_BGR2GRAY)\n",
    "        resized=cv2.resized(gray,(28,28),interpolation=cv2.INTER_AREA)\n",
    "        newimg=tf.keras.utlis.normalize(resized,axis=1)\n",
    "        newimg=np.array(newimg).reshape(-1,IMG_SIZE,IMG_SIZE,1)\n",
    "        predictions=model.predict(newimg)\n",
    "        status=np.argmax(predictions)\n",
    "        \n",
    "        print(status)\n",
    "        print(type(status))\n",
    "        \n",
    "        x1,y1,w1,h1=0,0,175,75\n",
    "        # Draw black background rectangle\n",
    "        cv2.rectangle(frame,(x1,x1),(x1+w1,y1+h1),(0,0,0),-1)\n",
    "        # Add text\n",
    "        cv2.putText(frame,status.astype(str),(x1+int(w1/5),y1+int(h1/2)),cv2.FONT_HERSHEY_SIMPLEX,0.7,(0,0,255),2)\n",
    "        cv2.imshow(\"Handwritten Digit Recognition Tutorial\",frame)\n",
    "        \n",
    "        if cv2.waitkey(2)&0xFF==ord('q'):\n",
    "            break\n",
    "cap.release()\n",
    "cv2.destroyAllwindows()"
   ]
  },
  {
   "cell_type": "code",
   "execution_count": null,
   "id": "d74135b7",
   "metadata": {},
   "outputs": [],
   "source": []
  }
 ],
 "metadata": {
  "kernelspec": {
   "display_name": "Python 3.9 (tensorflow)",
   "language": "python",
   "name": "tensorflow"
  },
  "language_info": {
   "codemirror_mode": {
    "name": "ipython",
    "version": 3
   },
   "file_extension": ".py",
   "mimetype": "text/x-python",
   "name": "python",
   "nbconvert_exporter": "python",
   "pygments_lexer": "ipython3",
   "version": "3.9.7"
  }
 },
 "nbformat": 4,
 "nbformat_minor": 5
}
